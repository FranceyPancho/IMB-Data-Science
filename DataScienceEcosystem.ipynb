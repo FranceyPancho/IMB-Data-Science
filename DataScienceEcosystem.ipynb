{
 "cells": [
  {
   "cell_type": "markdown",
   "id": "aa60acf5-0a03-4001-98a7-59f5fd62cb91",
   "metadata": {},
   "source": [
    "# Data Science Tools and Ecosystem "
   ]
  },
  {
   "cell_type": "markdown",
   "id": "b1aca1ad-7ede-4a2b-bb04-dc776697aa0d",
   "metadata": {},
   "source": [
    "In this notebook, Data Science Tools and Ecosystems are summarized."
   ]
  },
  {
   "cell_type": "markdown",
   "id": "e0601fd4-a7d2-4acd-a7d0-558e17af191a",
   "metadata": {},
   "source": [
    "**Objectives:**\n",
    "\n",
    "- List of popular languages for Data Science\n",
    "- List of popular libraries for Data Science\n",
    "- Tools for Data Science\n"
   ]
  },
  {
   "cell_type": "markdown",
   "id": "c9c963c3-07a8-4f0d-8bba-d1a7b48129f0",
   "metadata": {},
   "source": [
    "Some of the popular languages that Data Scientists use are:\n",
    "\n",
    "1. Python\n",
    "2. SQL\n",
    "3. Java\n",
    "4. Scala\n",
    "5. C++\n",
    "6. R"
   ]
  },
  {
   "cell_type": "markdown",
   "id": "9273ecea-a46c-4d60-aed9-58c25b13cfb6",
   "metadata": {},
   "source": [
    "Some of the commonly used libraries used by Data Scientists include: \n",
    "\n",
    "1. NumPy\n",
    "2. Pandas\n",
    "3. Matplotlib\n",
    "4. Keras\n",
    "5. Pytorch\n",
    "6. Plotly"
   ]
  },
  {
   "cell_type": "markdown",
   "id": "ec83bc65-236e-483a-82e2-58eca55647ab",
   "metadata": {},
   "source": [
    "| Data Science Tools |\n",
    "|--------------------|\n",
    "| Jupyter Notebook   |\n",
    "| RStudio            |\n",
    "| VS Code with Python Extension |\n"
   ]
  },
  {
   "cell_type": "markdown",
   "id": "29f0345d-c861-4dfc-b27c-f7c2ca664443",
   "metadata": {},
   "source": [
    "### Below are a few examples of evaluating arithmetic expressions in Python."
   ]
  },
  {
   "cell_type": "code",
   "execution_count": 11,
   "id": "8b2c6954-5042-4f41-a2b2-b95eafd8a60e",
   "metadata": {},
   "outputs": [
    {
     "data": {
      "text/plain": [
       "17"
      ]
     },
     "execution_count": 11,
     "metadata": {},
     "output_type": "execute_result"
    }
   ],
   "source": [
    "# This is a simple arithmetic expression to multiply then add integers.\n",
    "\n",
    "(3*4)+5"
   ]
  },
  {
   "cell_type": "code",
   "execution_count": 10,
   "id": "dfd09db4-c1d5-454f-8d7f-9b5a1675985a",
   "metadata": {},
   "outputs": [
    {
     "name": "stdout",
     "output_type": "stream",
     "text": [
      "3.3333333333333335 hours\n"
     ]
    }
   ],
   "source": [
    "# This will convert 200 minutes to hours by dividing by 60\n",
    "\n",
    "hours = 200/60\n",
    "\n",
    "print(hours, \"hours\")"
   ]
  },
  {
   "cell_type": "markdown",
   "id": "968a95cc-0e8a-4919-85b2-a2faa0082842",
   "metadata": {},
   "source": [
    "## Author:\n",
    "Francisco Vasquez"
   ]
  }
 ],
 "metadata": {
  "kernelspec": {
   "display_name": "Python 3 (ipykernel)",
   "language": "python",
   "name": "python3"
  },
  "language_info": {
   "codemirror_mode": {
    "name": "ipython",
    "version": 3
   },
   "file_extension": ".py",
   "mimetype": "text/x-python",
   "name": "python",
   "nbconvert_exporter": "python",
   "pygments_lexer": "ipython3",
   "version": "3.11.7"
  }
 },
 "nbformat": 4,
 "nbformat_minor": 5
}
